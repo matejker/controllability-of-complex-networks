{
 "cells": [
  {
   "cell_type": "markdown",
   "id": "c050b3e5",
   "metadata": {},
   "source": [
    "# Dynamical Mode Decomposition (DMD)\n",
    "\n",
    "In this notebook we tried to estimate linear system which governs the process, in the network case we are estimating the adjacency matix. We used Dynamical Mode Decomposition algorithm which was firstly described by P. Schimd [3] and extended for linear system with control by S. Brunton [1, 2]. \n",
    "\n",
    "## DMD for linear system\n",
    "\n",
    "Let consider an unforced linear system stated as follows (1):\n",
    "$$x_{k+1} = A x_k = A (A x_{k-1}) = A^3x_{k-2} = ... = A^{k}x_{0}\\tag{1}$$\n",
    "Therefore, we can define $X$ and $X'$ which record the evolution of the linear system.  \n",
    "$X = \\begin{bmatrix}\n",
    "    \\vert & \\vert &  & \\vert \\\\\n",
    "    x_1 & x_2 & ... & x_{m-1} \\\\\n",
    "    \\vert & \\vert &  & \\vert\n",
    "\\end{bmatrix}; X' = \\begin{bmatrix}\n",
    "    \\vert & \\vert &  & \\vert \\\\\n",
    "    x_2 & x_3 & ... & x_{m  } \\\\\n",
    "    \\vert & \\vert &  & \\vert\n",
    "\\end{bmatrix}$  \n",
    "where $m$ is the number of snapshots of the linear system. Knowing that the $X'$ is one time step shifted forward, we can substitute $X$ and $X'$ into (1)  \n",
    "$X' = AX \\tag{2}$  \n",
    "\n",
    "We can find $A$ simply by mulitiplying equation (2) with $X^{\\dagger}$, where $\\dagger$ is the Moore-Penrose pseudoinverse of matrix $X$.  \n",
    "$A = X'X^{\\dagger} \\tag{3}$  "
   ]
  },
  {
   "cell_type": "code",
   "execution_count": 1,
   "id": "1b5c5b38",
   "metadata": {},
   "outputs": [],
   "source": [
    "import numpy as np\n",
    "import networkx as nx\n",
    "import matplotlib.pyplot as plt"
   ]
  },
  {
   "cell_type": "markdown",
   "id": "e99fa01c",
   "metadata": {},
   "source": [
    "Let's consider a simple 4-cycle directed network with a initial state $x_0=[1,2,3,4]$ and observe how it is envolving for 10 time steps."
   ]
  },
  {
   "cell_type": "code",
   "execution_count": 2,
   "id": "15ec089c",
   "metadata": {},
   "outputs": [
    {
     "data": {
      "image/png": "[encoded data removed]",
      "text/plain": [
       "<Figure size 432x288 with 1 Axes>"
      ]
     },
     "metadata": {},
     "output_type": "display_data"
    }
   ],
   "source": [
    "n = 4\n",
    "G = nx.DiGraph()\n",
    "G.add_edges_from([(i, (i + 1) % n) for i in range(n)])\n",
    "\n",
    "nx.draw(G, with_labels=True, font_color=\"white\", edge_color=\"g\")\n",
    "plt.show()\n",
    "\n",
    "A = np.array([[0, 0, 0, 1], [1, 0, 0, 0], [0, 1, 0, 0], [0, 0, 1, 0]])\n",
    "B = np.array([[1], [0], [0], [0]])"
   ]
  },
  {
   "cell_type": "markdown",
   "id": "175a1b88",
   "metadata": {},
   "source": [
    "Now, we are going to reverse engineering the linear process which generated the snapshot $X$ and $X'$."
   ]
  },
  {
   "cell_type": "code",
   "execution_count": 3,
   "id": "bd64230e",
   "metadata": {},
   "outputs": [
    {
     "name": "stdout",
     "output_type": "stream",
     "text": [
      "Our estimation of adjacency matix A:\n",
      "0  0  0  1\n",
      "1  0  0  0\n",
      "0  1  0  0\n",
      "0  0  1  0\n"
     ]
    }
   ],
   "source": [
    "m = 10\n",
    "data_raw = np.zeros((m, n))\n",
    "data_raw[0] = np.array([1, 2, 3, 4])\n",
    "\n",
    "for t in range(1, m):\n",
    "    data_raw[t] = np.dot(A, data_raw[t - 1])\n",
    "\n",
    "X_piv = np.linalg.pinv(data_raw[:-1]).T\n",
    "X_s = data_raw[1:].T\n",
    "A_est = np.round(np.dot(X_s, X_piv)).astype(int) \n",
    "\n",
    "print(\"Our estimation of adjacency matix A:\")\n",
    "print(\"\\n\".join([\"  \".join([str(cell) for cell in row]) for row in A_est]))"
   ]
  },
  {
   "cell_type": "markdown",
   "id": "f3c40c4b",
   "metadata": {},
   "source": [
    "## DMD for with control\n",
    "\n",
    "Next step is to consider is a linear system with control force. We introduce a controler with _pretty much_ random vlaues $Y$.  \n",
    "$Y = \\begin{bmatrix}\n",
    "    \\vert & \\vert &  & \\vert \\\\\n",
    "    u_1 & u_2 & ... & u_{m-1} \\\\\n",
    "    \\vert & \\vert &  & \\vert\n",
    "\\end{bmatrix}$   \n",
    "Then the system looks as folllow:  \n",
    "$X' = AX + BY \\tag{4}$\n",
    "It can be solved, again, by mulitiplying equation (4) with $X^{\\dagger}$.  \n",
    "$X'-BY = AX$  \n",
    "$A = (X'-BY)X^{\\dagger}$"
   ]
  },
  {
   "cell_type": "code",
   "execution_count": 4,
   "id": "3146c52d",
   "metadata": {},
   "outputs": [
    {
     "name": "stdout",
     "output_type": "stream",
     "text": [
      "Our estimation of adjacency matix A for controled system:\n",
      "0  0  0  1\n",
      "1  0  0  0\n",
      "0  1  0  0\n",
      "0  0  1  0\n"
     ]
    }
   ],
   "source": [
    "data_raw = np.zeros((m, n))\n",
    "data_raw[0] = np.array([1, 2, 3, 4])\n",
    "Y = np.random.randint(5, size=(m - 1, n))\n",
    "\n",
    "for t in range(1, m):\n",
    "    data_raw[t] = np.dot(A, data_raw[t - 1]) + np.dot(B.T, Y[t - 1].T)\n",
    "\n",
    "X_piv = np.linalg.pinv(data_raw[:-1]).T\n",
    "X_s = data_raw[1:].T\n",
    "A_est = np.round(np.dot(X_s - np.dot(B.T, Y.T), X_piv)).astype(int) \n",
    "\n",
    "print(\"Our estimation of adjacency matix A for controled system:\")\n",
    "print(\"\\n\".join([\"  \".join([str(cell) for cell in row]) for row in A_est]))"
   ]
  },
  {
   "cell_type": "markdown",
   "id": "27413650",
   "metadata": {},
   "source": [
    "## References\n",
    "[1] Brunton, S., & Kutz, J. (2019). _Data-Driven Science and Engineering: Machine Learning, Dynamical Systems, and Control._ Cambridge: Cambridge University Press. doi:10.1017/9781108380690   \n",
    "[2] Proctor, J. L. & Brunton, S., & Kutz, J. (2014), _Dynamic mode decomposition with control_, arXiv 1409.6358, https://arxiv.org/abs/1409.6358  \n",
    "[3] Brunton, S, (2018), _Dynamic Mode Decomposition_, https://www.youtube.com/watch?v=sQvrK8AGCAo  \n",
    "[4] Schmid. P, (2010), _Dynamic mode decomposition of numerical and experimental data_. Journal of Fluid Mechanics, Cambridge University Press (CUP), 656 (August), pp.5-28.\n",
    "ff10.1017/s0022112010001217ff. ffhal-01020654f, https://hal-polytechnique.archives-ouvertes.fr/hal-01020654/document  \n",
    "\n"
   ]
  }
 ],
 "metadata": {
  "kernelspec": {
   "display_name": "Python 3",
   "language": "python",
   "name": "python3"
  },
  "language_info": {
   "codemirror_mode": {
    "name": "ipython",
    "version": 3
   },
   "file_extension": ".py",
   "mimetype": "text/x-python",
   "name": "python",
   "nbconvert_exporter": "python",
   "pygments_lexer": "ipython3",
   "version": "3.8.0"
  }
 },
 "nbformat": 4,
 "nbformat_minor": 5
}
